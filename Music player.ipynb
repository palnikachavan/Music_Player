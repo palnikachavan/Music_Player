{
 "cells": [
  {
   "cell_type": "code",
   "execution_count": 1,
   "metadata": {},
   "outputs": [
    {
     "name": "stdout",
     "output_type": "stream",
     "text": [
      "pygame 2.1.2 (SDL 2.0.18, Python 3.9.7)\n",
      "Hello from the pygame community. https://www.pygame.org/contribute.html\n"
     ]
    }
   ],
   "source": [
    "import tkinter as tk\n",
    "from tkinter import *\n",
    "import pygame\n",
    "from tkinter import filedialog \n",
    "from tkinter import simpledialog\n",
    "from tkinter import messagebox\n",
    "import pandas as pd\n",
    "import time\n",
    "from mutagen.mp3 import MP3\n",
    "import tkinter.ttk as ttk\n",
    "import csv"
   ]
  },
  {
   "cell_type": "code",
   "execution_count": 2,
   "metadata": {},
   "outputs": [
    {
     "data": {
      "text/plain": [
       "''"
      ]
     },
     "execution_count": 2,
     "metadata": {},
     "output_type": "execute_result"
    }
   ],
   "source": [
    "root = Tk()\n",
    "root.title('Music Player')\n",
    "root.iconbitmap()\n",
    "root.geometry(\"550x460\")"
   ]
  },
  {
   "cell_type": "code",
   "execution_count": 3,
   "metadata": {},
   "outputs": [],
   "source": [
    "def add_song():\n",
    "    song = filedialog.askopenfilename(initialdir=r\"C:/IP project/Songs/\",\n",
    "                                      title='Choose a song',\n",
    "                                      filetypes=((\"mp3 files\",\"*.mp3\"),))\n",
    "    directory = song\n",
    "    # to remove directory info and mp3 extention from o/p\n",
    "    song = song.replace(\"C:/IP project/Songs/\",\"\")\n",
    "    song = song.replace(\".mp3\",\"\")\n",
    "    # add song to list box\n",
    "    song_b.insert(END,song)\n",
    "    #print(song_b.size())"
   ]
  },
  {
   "cell_type": "code",
   "execution_count": 4,
   "metadata": {},
   "outputs": [],
   "source": [
    "# play selected song\n",
    "def play():\n",
    "    # set stopped variable to false so song can play\n",
    "    global stopped\n",
    "    stopped = False\n",
    "    song = song_b.get(ACTIVE)\n",
    "    song = fr\"C:/IP project/Songs/{song}.mp3\"\n",
    "    \n",
    "    pygame.mixer.music.load(song)\n",
    "    pygame.mixer.music.play(loops=0)\n",
    "    # to show time\n",
    "    play_time()\n",
    "    \n",
    "    # update slider to position\n",
    "    slider_position = int(song_length)\n",
    "    my__slider.config(to=slider_position, value=0)\n",
    "    \n",
    "    # get current volume\n",
    "    #curr_vol = pygame.mixer.music.get_volume()\n",
    "    #slider_label.config(text=curr_vol*100)"
   ]
  },
  {
   "cell_type": "code",
   "execution_count": 5,
   "metadata": {},
   "outputs": [],
   "source": [
    "# stop playing current song\n",
    "global stopped\n",
    "stopped = False\n",
    "def stop():\n",
    "    #reset slider and status bar\n",
    "    status_bar.config(text='')\n",
    "    my__slider.config(value = 0)\n",
    "    #stop song from playing\n",
    "    pygame.mixer.music.stop()\n",
    "    song_b.selection_clear(ACTIVE)\n",
    "    \n",
    "    #to clear statusbar\n",
    "    status_bar.config(text='')\n",
    "    \n",
    "    #set stop variable to true\n",
    "    global stopped \n",
    "    stopped = True"
   ]
  },
  {
   "cell_type": "code",
   "execution_count": 6,
   "metadata": {},
   "outputs": [],
   "source": [
    "# pause and unpause the current song\n",
    "global paused\n",
    "paused = False\n",
    "def pause(is_paused):\n",
    "    global paused\n",
    "    paused = is_paused\n",
    "    if paused:\n",
    "        pygame.mixer.music.unpause() # for unpause\n",
    "        paused = False\n",
    "    else:\n",
    "        pygame.mixer.music.pause() # for pause\n",
    "        my__slider.config(state = tk.DISABLED) # if pause button is hit the slider gets disabled\n",
    "        paused = True"
   ]
  },
  {
   "cell_type": "code",
   "execution_count": 7,
   "metadata": {},
   "outputs": [],
   "source": [
    "# to play next song forward button\n",
    "def next_song():\n",
    "    # reset slider and status bar\n",
    "    status_bar.config(text='')\n",
    "    my__slider.config(value = 0)\n",
    "    \n",
    "    # to get the current song's NUMBER IN A TUPLE\n",
    "    next_one = song_b.curselection()\n",
    "    # for next song just add 1\n",
    "    next_one = next_one[0]+1\n",
    "    # to get next song title \n",
    "    song = song_b.get(next_one)\n",
    "    \n",
    "    song = fr\"C:/IP project/Songs/{song}.mp3\"\n",
    "    pygame.mixer.music.load(song)\n",
    "    pygame.mixer.music.play(loops=0)\n",
    "    \n",
    "    # to move active bar\n",
    "    song_b.selection_clear(0, END)\n",
    "    \n",
    "    # new song active bar\n",
    "    song_b.activate(next_one)\n",
    "    \n",
    "    # the selected bg\n",
    "    song_b.selection_set(next_one, last = None)"
   ]
  },
  {
   "cell_type": "code",
   "execution_count": 8,
   "metadata": {},
   "outputs": [],
   "source": [
    "# back button\n",
    "def prev_song():\n",
    "    # reset slider and status bar\n",
    "    status_bar.config(text='')\n",
    "    my__slider.config(value = 0)\n",
    "    \n",
    "    # to get the current song's no in a tuple\n",
    "    prev_one = song_b.curselection()\n",
    "    # for next song just subtract 1\n",
    "    prev_one = prev_one[0]-1\n",
    "    # to get next song title \n",
    "    song = song_b.get(prev_one)\n",
    "    \n",
    "    song = fr\"C:/IP project/Songs/{song}.mp3\"\n",
    "    pygame.mixer.music.load(song)\n",
    "    pygame.mixer.music.play(loops=0)\n",
    "    \n",
    "    # to move active bar\n",
    "    song_b.selection_clear(0, END)\n",
    "    \n",
    "    # new song active bar\n",
    "    song_b.activate(prev_one)\n",
    "    \n",
    "    # the selected bg\n",
    "    song_b.selection_set(prev_one, last = None)"
   ]
  },
  {
   "cell_type": "code",
   "execution_count": 9,
   "metadata": {},
   "outputs": [],
   "source": [
    "# to add many songs to the playlist\n",
    "def add_many_songs():\n",
    "    songs = filedialog.askopenfilenames(initialdir=r\"C:/IP project/Songs/\",\n",
    "                                        title='Choose songs',\n",
    "                                        filetypes=((\"mp3 files\",\"*.mp3\"),))\n",
    "    #loop through song list and replace directories\n",
    "    for song in songs:\n",
    "        song = song.replace(\"C:/IP project/Songs/\",\"\")\n",
    "        song = song.replace(\".mp3\",\"\")\n",
    "        #add song to list box\n",
    "        song_b.insert(END, song)"
   ]
  },
  {
   "cell_type": "code",
   "execution_count": 10,
   "metadata": {},
   "outputs": [],
   "source": [
    "# to delete A song\n",
    "def delete_song():\n",
    "    stop()\n",
    "    song_b.delete(ANCHOR)   # currently selected one\n",
    "    pygame.mixer.music.stop()"
   ]
  },
  {
   "cell_type": "code",
   "execution_count": 11,
   "metadata": {},
   "outputs": [],
   "source": [
    "# apparently music still plays after closing the gui to stop that\n",
    "def on_closing():\n",
    "    if (tk.messagebox.askyesno(title=\"Save songs as playlist\", \n",
    "                               message=\"Do you want to save songs as a Playlist\")):\n",
    "        save()\n",
    "    if (tk.messagebox.askyesno(title=\"Closing\", \n",
    "                               message=\"Do you really want to exit?\")):\n",
    "        stop_music()\n",
    "        root.destroy()"
   ]
  },
  {
   "cell_type": "code",
   "execution_count": 12,
   "metadata": {},
   "outputs": [],
   "source": [
    "def stop_music():\n",
    "    pygame.mixer.music.stop()"
   ]
  },
  {
   "cell_type": "code",
   "execution_count": 13,
   "metadata": {},
   "outputs": [],
   "source": [
    "# to delete all songs\n",
    "def delete_all_songs():\n",
    "    stop()\n",
    "    song_b.delete(0, END)\n",
    "    pygame.mixer.music.stop() # stop music if playing"
   ]
  },
  {
   "cell_type": "code",
   "execution_count": 14,
   "metadata": {},
   "outputs": [],
   "source": [
    "# grab song length\n",
    "def play_time():\n",
    "    if stopped:\n",
    "        # check for double timing\n",
    "        return # breaks out of a function\n",
    "    \n",
    "    # get current song elapsed time\n",
    "    current_time = pygame.mixer.music.get_pos() / 1000\n",
    "    \n",
    "    # throw up temp label to get data\n",
    "    # slider_label.config(text=f'Slider: {int(my__slider.get())} and Song Pos: {int(current_time)}')\n",
    "\n",
    "    # convert to time format\n",
    "    conv_curr_time = time.strftime('%M:%S', time.gmtime(current_time))\n",
    "    \n",
    "    # for knowing currently playing song\n",
    "    current_song = song_b.curselection()  # returns a number\n",
    "    # to get next song title \n",
    "    song = song_b.get(ACTIVE)\n",
    "    # back into directory structure\n",
    "    song = fr\"C:/IP project/Songs/{song}.mp3\"\n",
    "\n",
    "    # get song length with mutagen\n",
    "    song_mut = MP3(song)\n",
    "    \n",
    "    # get song length\n",
    "    global song_length\n",
    "    global paused\n",
    "    song_length = song_mut.info.length  # in secs\n",
    "    \n",
    "    # convert to time format\n",
    "    conv_song_length = time.strftime('%M:%S', time.gmtime(song_length))\n",
    "    if (paused == True):\n",
    "        my__slider.config(state = tk.DISABLED)    \n",
    "    else:\n",
    "        my__slider.config(state = tk.NORMAL)\n",
    "        if int(my__slider.get()) == int(song_length):\n",
    "            status_bar.config(text=f'Time elapsed: {conv_song_length}  of  {conv_song_length}   ')\n",
    "            try:\n",
    "                next_song()   \n",
    "            except:\n",
    "                messagebox.showinfo(\"Playlist ended\", \"Your Playlist has ended\")\n",
    "\n",
    "        elif int(my__slider.get() == int(current_time)):\n",
    "            # slider hasn't been moved\n",
    "            slider_position = int(song_length)\n",
    "            my__slider.config(to = slider_position, value = int(current_time))\n",
    "            status_bar.config(text = f'Time elapsed: {conv_curr_time}  of  {conv_song_length}   ')\n",
    "\n",
    "        else:\n",
    "            # slider has been moved\n",
    "            # to update it!\n",
    "            slider_position = int(song_length) \n",
    "            my__slider.config(to = slider_position, value = int(my__slider.get()))\n",
    "            # convert to time format\n",
    "            conv_curr_time = time.strftime('%M:%S', time.gmtime(int(my__slider.get())))\n",
    "            # o/p time to statusbar \n",
    "            status_bar.config(text=f'Time elapsed: {conv_curr_time}  of  {conv_song_length}   ')\n",
    "\n",
    "            # move the thing along by a second\n",
    "            next_time = int(my__slider.get()) + 1\n",
    "            my__slider.config(value = next_time)\n",
    "        \n",
    "            \n",
    "    # update time\n",
    "    status_bar.after(1000, play_time)"
   ]
  },
  {
   "cell_type": "code",
   "execution_count": 15,
   "metadata": {},
   "outputs": [],
   "source": [
    "# create slider function\n",
    "def slide(x):\n",
    "    #slider_label.config(text=f'{int(my__slider.get())} of {int(song_length)}')\n",
    "    song = song_b.get(ACTIVE)\n",
    "    song = fr\"C:/IP project/Songs/{song}.mp3\"\n",
    "    \n",
    "    pygame.mixer.music.load(song)\n",
    "    pygame.mixer.music.play(loops=0, start=int(my__slider.get()))"
   ]
  },
  {
   "cell_type": "code",
   "execution_count": 16,
   "metadata": {},
   "outputs": [],
   "source": [
    "# create volume function\n",
    "def volume(x):\n",
    "    pygame.mixer.music.set_volume(vol_slider.get())  # set values from 0 to 1(floats) so is the slider value \n",
    "    \n",
    "    # get current volume\n",
    "    #curr_vol = pygame.mixer.music.get_volume()\n",
    "    #slider_label.config(text=curr_vol)"
   ]
  },
  {
   "cell_type": "code",
   "execution_count": 17,
   "metadata": {},
   "outputs": [],
   "source": [
    "def open_():\n",
    "    df=pd.DataFrame([])\n",
    "    csvv = filedialog.askopenfilename(initialdir=r\"C:/IP project/Playlists/\",\n",
    "                                      title=\"Choose a playlist\",\n",
    "                                      filetypes=((\"csv files\",\"*.csv\"),))\n",
    "    df = pd.read_csv(csvv, header = None, skiprows=1)\n",
    "\n",
    "    for song in df[0]:\n",
    "        song_name = song\n",
    "        #add song to list box\n",
    "        song_b.insert(END, song)"
   ]
  },
  {
   "cell_type": "code",
   "execution_count": 18,
   "metadata": {},
   "outputs": [],
   "source": [
    "def save():\n",
    "    if song_b.size()!=0:\n",
    "        playlist = simpledialog.askstring(\"Name\", \"Name of the playlist\")\n",
    "        data={}\n",
    "        l1=[]\n",
    "        l2=[]\n",
    "\n",
    "        for x in song_b.get(0,END):\n",
    "            l1.append(x)\n",
    "            l2.append(fr\"C:/IP project/Songs/{x}.mp3\")\n",
    "\n",
    "        data = {'Name':l1,'Dir':l2}    \n",
    "        df4 = pd.DataFrame(data)\n",
    "        df4.to_csv(f\"C:/IP project/Playlists/{playlist}.csv\",index=False) \n",
    "        \n",
    "    else:\n",
    "        messagebox.showinfo(\"Empty!\",\"Your Playlist is empty\")   "
   ]
  },
  {
   "cell_type": "code",
   "execution_count": 19,
   "metadata": {},
   "outputs": [],
   "source": [
    "# initailise pygame mixer\n",
    "pygame.mixer.init()"
   ]
  },
  {
   "cell_type": "code",
   "execution_count": 20,
   "metadata": {},
   "outputs": [],
   "source": [
    "# create master frame\n",
    "master_frame = Frame(root)\n",
    "master_frame.pack(pady=20)\n",
    "\n",
    "# create a playlist box\n",
    "song_b = Listbox(master_frame,\n",
    "                 bg='black',\n",
    "                 fg='yellow',\n",
    "                 width=60,\n",
    "                 selectbackground=\"purple\",\n",
    "                 selectforeground=\"gold\")\n",
    "song_b.grid(row=0, column=0)\n",
    "\n",
    "# create volume label frame\n",
    "volume_frame = LabelFrame(master_frame, text='Volume')\n",
    "volume_frame.grid(row=3, column=0) \n",
    "\n",
    "# create player control frame\n",
    "controls_frame = Frame(master_frame)\n",
    "controls_frame.grid(row=1,column=0,pady=20,padx=10)"
   ]
  },
  {
   "cell_type": "code",
   "execution_count": 21,
   "metadata": {},
   "outputs": [],
   "source": [
    "# define player control buttons with images\n",
    "back_btn_img = tk.PhotoImage(file=r\"C:/IP project/Images/Previous.gif\")\n",
    "forward_btn_img = tk.PhotoImage(file=r\"C:/IP project/Images/Next.gif\")\n",
    "play_btn_img = tk.PhotoImage(file=r\"C:/IP project/Images/play.gif\")\n",
    "pause_btn_img = tk.PhotoImage(file=r\"C:/IP project/Images/Pause.gif\")\n",
    "stop_btn_img = tk.PhotoImage(file=r\"C:/IP project/Images/Stop.gif\")"
   ]
  },
  {
   "cell_type": "code",
   "execution_count": 22,
   "metadata": {
    "scrolled": true
   },
   "outputs": [],
   "source": [
    "# creating buttons\n",
    "back_button = Button(controls_frame, \n",
    "                     image=back_btn_img, \n",
    "                     borderwidth=0,\n",
    "                     command=prev_song)\n",
    "forward_button = Button(controls_frame, \n",
    "                        image=forward_btn_img, \n",
    "                        borderwidth=0,\n",
    "                        command=next_song)\n",
    "play_button = Button(controls_frame,\n",
    "                     image=play_btn_img, \n",
    "                     borderwidth=0,\n",
    "                     command=play)\n",
    "stop_button = Button(controls_frame, \n",
    "                     image=stop_btn_img, \n",
    "                     borderwidth=0,\n",
    "                     command=stop)\n",
    "pause_button = Button(controls_frame,\n",
    "                      image=pause_btn_img, \n",
    "                      borderwidth=0,\n",
    "                      command=lambda: pause(paused))"
   ]
  },
  {
   "cell_type": "code",
   "execution_count": 23,
   "metadata": {},
   "outputs": [],
   "source": [
    "# allignment of buttons\n",
    "back_button.grid(row=0,column=0,padx=5)\n",
    "forward_button.grid(row=0,column=4,padx=5)\n",
    "play_button.grid(row=0,column=2,padx=5)\n",
    "pause_button.grid(row=0,column=1,padx=5)\n",
    "stop_button.grid(row=0,column=3,padx=5)"
   ]
  },
  {
   "cell_type": "code",
   "execution_count": 24,
   "metadata": {},
   "outputs": [],
   "source": [
    "# create a menu\n",
    "my_menu = Menu(root)\n",
    "root.config(menu=my_menu)"
   ]
  },
  {
   "cell_type": "code",
   "execution_count": 25,
   "metadata": {},
   "outputs": [],
   "source": [
    "# add song menu\n",
    "add_song_menu = Menu(my_menu)\n",
    "my_menu.add_cascade(label=\"Add songs\", menu=add_song_menu)\n",
    "add_song_menu.add_command(label=\"Add one song to playlist\", command=add_song)\n",
    "# add many songs to the playlist\n",
    "add_song_menu.add_command(label=\"Add many songs to playlist\", command=add_many_songs)\n",
    "\n",
    "# create delete song menu\n",
    "remove_song_menu = Menu(my_menu)\n",
    "my_menu.add_cascade(label='Remove Songs', menu=remove_song_menu)\n",
    "remove_song_menu.add_cascade(label=\"Delete a song from playlist\", command=delete_song)\n",
    "remove_song_menu.add_cascade(label=\"Delete All songs from playlist\", command=delete_all_songs)\n",
    "\n",
    "# create open playlist\n",
    "my_playlist = Menu(my_menu)\n",
    "my_menu.add_cascade(label=\"Playlists\", menu=my_playlist)\n",
    "my_playlist.add_command(label=\"Open playlists\", command=open_)\n",
    "my_playlist.add_command(label=\"Save playlist\", command=save)"
   ]
  },
  {
   "cell_type": "code",
   "execution_count": 26,
   "metadata": {},
   "outputs": [],
   "source": [
    "# create statusbar\n",
    "status_bar = Label(root, text='', bd=1,relief=GROOVE, anchor=E)\n",
    "status_bar.pack(fill=X, side=BOTTOM, ipady=2)"
   ]
  },
  {
   "cell_type": "code",
   "execution_count": 27,
   "metadata": {},
   "outputs": [],
   "source": [
    "# creating the slider in the menu box\n",
    "my__slider = ttk.Scale(master_frame, \n",
    "                       from_=0, to=100, \n",
    "                       orient=HORIZONTAL, \n",
    "                       value=0, \n",
    "                       command=slide, \n",
    "                       length=360)\n",
    "my__slider.grid(row=2,column=0,pady=10)"
   ]
  },
  {
   "cell_type": "code",
   "execution_count": 28,
   "metadata": {},
   "outputs": [],
   "source": [
    "# create temporary slider label for testing purpose\n",
    "# slider_label = Label(root, text=\"0\")\n",
    "# slider_label.pack(pady=10)"
   ]
  },
  {
   "cell_type": "code",
   "execution_count": 29,
   "metadata": {},
   "outputs": [],
   "source": [
    "# create volume control slider\n",
    "vol_slider = ttk.Scale(volume_frame, \n",
    "                       from_=0, \n",
    "                       to=1, \n",
    "                       orient=HORIZONTAL, \n",
    "                       value=1, \n",
    "                       command=volume, \n",
    "                       length=125)\n",
    "vol_slider.pack(pady=10)"
   ]
  },
  {
   "cell_type": "code",
   "execution_count": 30,
   "metadata": {},
   "outputs": [
    {
     "data": {
      "text/plain": [
       "''"
      ]
     },
     "execution_count": 30,
     "metadata": {},
     "output_type": "execute_result"
    }
   ],
   "source": [
    "root.protocol(\"WM_DELETE_WINDOW\",on_closing)"
   ]
  },
  {
   "cell_type": "code",
   "execution_count": null,
   "metadata": {},
   "outputs": [],
   "source": [
    "root.mainloop()"
   ]
  }
 ],
 "metadata": {
  "kernelspec": {
   "display_name": "Python 3 (ipykernel)",
   "language": "python",
   "name": "python3"
  },
  "language_info": {
   "codemirror_mode": {
    "name": "ipython",
    "version": 3
   },
   "file_extension": ".py",
   "mimetype": "text/x-python",
   "name": "python",
   "nbconvert_exporter": "python",
   "pygments_lexer": "ipython3",
   "version": "3.9.7"
  },
  "widgets": {
   "application/vnd.jupyter.widget-state+json": {
    "state": {},
    "version_major": 2,
    "version_minor": 0
   }
  }
 },
 "nbformat": 4,
 "nbformat_minor": 4
}
